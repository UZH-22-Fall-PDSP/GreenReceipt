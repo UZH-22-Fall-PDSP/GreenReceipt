{
 "cells": [
  {
   "cell_type": "code",
   "execution_count": 2,
   "metadata": {},
   "outputs": [],
   "source": [
    "import re\n",
    "import requests\n",
    "from bs4 import BeautifulSoup\n",
    "\n",
    "\n",
    "import sqlalchemy as db\n",
    "from scipy.spatial import distance\n",
    "\n",
    "import fasttext\n",
    "import fasttext.util\n",
    "from gensim.models.fasttext import FastText\n"
   ]
  },
  {
   "cell_type": "code",
   "execution_count": 1,
   "metadata": {},
   "outputs": [
    {
     "name": "stderr",
     "output_type": "stream",
     "text": [
      "Warning : `load_model` does not return WordVectorModel or SupervisedModel any more, but a `FastText` object which is very similar.\n"
     ]
    }
   ],
   "source": [
    "import greenrecipe_web as web\n",
    "import greenrecipe_nlp as nlp"
   ]
  },
  {
   "cell_type": "code",
   "execution_count": 2,
   "metadata": {},
   "outputs": [],
   "source": [
    "input = 'https://www.food.com/recipe/creamy-cajun-chicken-pasta-39087'"
   ]
  },
  {
   "cell_type": "code",
   "execution_count": 3,
   "metadata": {},
   "outputs": [],
   "source": [
    "urlsoup = web.urlValidCheck(input)\n",
    "recipe, ingredList = web.recipeIngredient(urlsoup)"
   ]
  },
  {
   "cell_type": "code",
   "execution_count": 4,
   "metadata": {},
   "outputs": [
    {
     "name": "stdout",
     "output_type": "stream",
     "text": [
      "Creamy Cajun Chicken Pasta Recipe\n",
      "[{'ingredient': 'Chicken', 'quantity': 1.0, 'unit': 'ea'}, {'ingredient': 'Pasta', 'quantity': 56.69, 'unit': 'g'}, {'ingredient': 'Butter', 'quantity': 14.79, 'unit': 'ml'}, {'ingredient': 'Green onion', 'quantity': 1.0, 'unit': 'ea'}, {'ingredient': 'Heavy cream', 'quantity': 59.14, 'unit': 'ml'}, {'ingredient': 'Tomato', 'quantity': 14.79, 'unit': 'ml'}, {'ingredient': 'Salt', 'quantity': 0.61, 'unit': 'ml'}, {'ingredient': 'Basil', 'quantity': 0.61, 'unit': 'ml'}, {'ingredient': 'Pepper', 'quantity': 0.3, 'unit': 'ml'}, {'ingredient': 'Garlic powder', 'quantity': 0.3, 'unit': 'ml'}, {'ingredient': 'Parmesan cheese', 'quantity': 29.57, 'unit': 'ml'}]\n"
     ]
    }
   ],
   "source": [
    "### before cleaning\n",
    "print(recipe)\n",
    "print(ingredList)"
   ]
  },
  {
   "cell_type": "code",
   "execution_count": 5,
   "metadata": {},
   "outputs": [
    {
     "name": "stdout",
     "output_type": "stream",
     "text": [
      "[{'ingredient': 'chicken', 'quantity': 1.0, 'unit': 'ea'}, {'ingredient': 'pasta', 'quantity': 56.69, 'unit': 'g'}, {'ingredient': 'butter', 'quantity': 14.79, 'unit': 'ml'}, {'ingredient': 'green onion', 'quantity': 1.0, 'unit': 'ea'}, {'ingredient': 'whipping cream', 'quantity': 59.14, 'unit': 'ml'}, {'ingredient': 'tomato', 'quantity': 14.79, 'unit': 'ml'}, {'ingredient': 'salt', 'quantity': 0.61, 'unit': 'ml'}, {'ingredient': 'basil', 'quantity': 0.61, 'unit': 'ml'}, {'ingredient': 'pepper', 'quantity': 0.3, 'unit': 'ml'}, {'ingredient': 'onion powder', 'quantity': 0.3, 'unit': 'ml'}, {'ingredient': 'curd cheese', 'quantity': 29.57, 'unit': 'ml'}]\n"
     ]
    }
   ],
   "source": [
    "### after cleaning with nlp\n",
    "res = nlp.find_similar_ing(ingredList)\n",
    "print(res)"
   ]
  },
  {
   "cell_type": "code",
   "execution_count": 6,
   "metadata": {},
   "outputs": [],
   "source": [
    "input2='https://www.food.com/recipe/gluten-free-korean-salmon-and-scallion-pancake-pajeon-504112'"
   ]
  },
  {
   "cell_type": "code",
   "execution_count": 7,
   "metadata": {},
   "outputs": [
    {
     "ename": "ValueError",
     "evalue": "could not convert string to float: ''",
     "output_type": "error",
     "traceback": [
      "\u001b[0;31m---------------------------------------------------------------------------\u001b[0m",
      "\u001b[0;31mValueError\u001b[0m                                Traceback (most recent call last)",
      "\u001b[0;32m/var/folders/tw/p07dm98915g131rbrt3cdyjc0000gn/T/ipykernel_9663/1494463355.py\u001b[0m in \u001b[0;36m<module>\u001b[0;34m\u001b[0m\n\u001b[1;32m      1\u001b[0m \u001b[0murlsoup\u001b[0m \u001b[0;34m=\u001b[0m \u001b[0mweb\u001b[0m\u001b[0;34m.\u001b[0m\u001b[0murlValidCheck\u001b[0m\u001b[0;34m(\u001b[0m\u001b[0minput2\u001b[0m\u001b[0;34m)\u001b[0m\u001b[0;34m\u001b[0m\u001b[0;34m\u001b[0m\u001b[0m\n\u001b[0;32m----> 2\u001b[0;31m \u001b[0mrecipe\u001b[0m\u001b[0;34m,\u001b[0m \u001b[0mingredList\u001b[0m \u001b[0;34m=\u001b[0m \u001b[0mweb\u001b[0m\u001b[0;34m.\u001b[0m\u001b[0mrecipeIngredient\u001b[0m\u001b[0;34m(\u001b[0m\u001b[0murlsoup\u001b[0m\u001b[0;34m)\u001b[0m\u001b[0;34m\u001b[0m\u001b[0;34m\u001b[0m\u001b[0m\n\u001b[0m",
      "\u001b[0;32m~/Desktop/pdsp/GreenRecipe-Backend/greenrecipe_web.py\u001b[0m in \u001b[0;36mrecipeIngredient\u001b[0;34m(soup)\u001b[0m\n\u001b[1;32m     25\u001b[0m \u001b[0;34m\u001b[0m\u001b[0m\n\u001b[1;32m     26\u001b[0m     \u001b[0mrecipeTitle\u001b[0m \u001b[0;34m=\u001b[0m \u001b[0msoup\u001b[0m\u001b[0;34m.\u001b[0m\u001b[0mtitle\u001b[0m\u001b[0;34m.\u001b[0m\u001b[0mtext\u001b[0m\u001b[0;34m.\u001b[0m\u001b[0msplit\u001b[0m\u001b[0;34m(\u001b[0m\u001b[0;34m' - Food.com'\u001b[0m\u001b[0;34m)\u001b[0m\u001b[0;34m[\u001b[0m\u001b[0;36m0\u001b[0m\u001b[0;34m]\u001b[0m\u001b[0;34m\u001b[0m\u001b[0;34m\u001b[0m\u001b[0m\n\u001b[0;32m---> 27\u001b[0;31m     \u001b[0mingrdList\u001b[0m \u001b[0;34m=\u001b[0m \u001b[0mfindIngredient\u001b[0m\u001b[0;34m(\u001b[0m\u001b[0msoup\u001b[0m\u001b[0;34m)\u001b[0m\u001b[0;34m\u001b[0m\u001b[0;34m\u001b[0m\u001b[0m\n\u001b[0m\u001b[1;32m     28\u001b[0m     \u001b[0;32mreturn\u001b[0m \u001b[0mrecipeTitle\u001b[0m\u001b[0;34m,\u001b[0m \u001b[0mingrdList\u001b[0m\u001b[0;34m\u001b[0m\u001b[0;34m\u001b[0m\u001b[0m\n\u001b[1;32m     29\u001b[0m \u001b[0;34m\u001b[0m\u001b[0m\n",
      "\u001b[0;32m~/Desktop/pdsp/GreenRecipe-Backend/greenrecipe_web.py\u001b[0m in \u001b[0;36mfindIngredient\u001b[0;34m(soup)\u001b[0m\n\u001b[1;32m     43\u001b[0m         \u001b[0;31m# CHECK : the item of list is the information of an ingredient.\u001b[0m\u001b[0;34m\u001b[0m\u001b[0;34m\u001b[0m\u001b[0m\n\u001b[1;32m     44\u001b[0m         \u001b[0;32mif\u001b[0m \u001b[0;34m(\u001b[0m\u001b[0mquant_obj\u001b[0m \u001b[0;34m!=\u001b[0m \u001b[0;32mNone\u001b[0m\u001b[0;34m)\u001b[0m \u001b[0;32mand\u001b[0m \u001b[0;34m(\u001b[0m\u001b[0mingrd_obj\u001b[0m \u001b[0;34m!=\u001b[0m \u001b[0;32mNone\u001b[0m\u001b[0;34m)\u001b[0m\u001b[0;34m:\u001b[0m\u001b[0;34m\u001b[0m\u001b[0;34m\u001b[0m\u001b[0m\n\u001b[0;32m---> 45\u001b[0;31m             \u001b[0mq\u001b[0m \u001b[0;34m=\u001b[0m \u001b[0mfloat\u001b[0m\u001b[0;34m(\u001b[0m\u001b[0mquant_obj\u001b[0m\u001b[0;34m.\u001b[0m\u001b[0mtext\u001b[0m\u001b[0;34m)\u001b[0m\u001b[0;34m\u001b[0m\u001b[0;34m\u001b[0m\u001b[0m\n\u001b[0m\u001b[1;32m     46\u001b[0m \u001b[0;34m\u001b[0m\u001b[0m\n\u001b[1;32m     47\u001b[0m             \u001b[0;31m# ASSUME : If there is no unit, the unit as 'ea'\u001b[0m\u001b[0;34m\u001b[0m\u001b[0;34m\u001b[0m\u001b[0m\n",
      "\u001b[0;31mValueError\u001b[0m: could not convert string to float: ''"
     ]
    }
   ],
   "source": [
    "urlsoup = web.urlValidCheck(input2)\n",
    "recipe, ingredList = web.recipeIngredient(urlsoup)"
   ]
  },
  {
   "cell_type": "code",
   "execution_count": null,
   "metadata": {},
   "outputs": [],
   "source": [
    "### before cleaning\n",
    "print(recipe)\n",
    "print(ingredList)"
   ]
  },
  {
   "cell_type": "code",
   "execution_count": null,
   "metadata": {},
   "outputs": [],
   "source": [
    "### after cleaning with nlp\n",
    "res = nlp.find_similar_ing(ingredList)\n",
    "print(res)"
   ]
  }
 ],
 "metadata": {
  "kernelspec": {
   "display_name": "Python 3 (ipykernel)",
   "language": "python",
   "name": "python3"
  },
  "language_info": {
   "codemirror_mode": {
    "name": "ipython",
    "version": 3
   },
   "file_extension": ".py",
   "mimetype": "text/x-python",
   "name": "python",
   "nbconvert_exporter": "python",
   "pygments_lexer": "ipython3",
   "version": "3.9.1"
  },
  "vscode": {
   "interpreter": {
    "hash": "aee8b7b246df8f9039afb4144a1f6fd8d2ca17a180786b69acc140d282b71a49"
   }
  }
 },
 "nbformat": 4,
 "nbformat_minor": 2
}
