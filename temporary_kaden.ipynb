{
 "cells": [
  {
   "cell_type": "code",
   "execution_count": 5,
   "metadata": {},
   "outputs": [],
   "source": [
    "import re\n",
    "import requests\n",
    "from bs4 import BeautifulSoup\n",
    "\n",
    "import greenrecipe_web as web\n",
    "\n",
    "input = 'https://www.food.com/recipe/creamy-cajun-chicken-pasta-39087'"
   ]
  },
  {
   "cell_type": "code",
   "execution_count": 6,
   "metadata": {},
   "outputs": [],
   "source": [
    "urlsoup = web.urlValidCheck(input)\n",
    "recipe, ingredList = web.recipeIngredient(urlsoup)"
   ]
  },
  {
   "cell_type": "code",
   "execution_count": 7,
   "metadata": {},
   "outputs": [
    {
     "name": "stdout",
     "output_type": "stream",
     "text": [
      "Creamy Cajun Chicken Pasta Recipe\n",
      "[{'ingredient': 'Chicken', 'quantity': 1.0, 'unit': 'ea'}, {'ingredient': 'Pasta', 'quantity': 56.69, 'unit': 'g'}, {'ingredient': 'Butter', 'quantity': 14.79, 'unit': 'ml'}, {'ingredient': 'Green onion', 'quantity': 1.0, 'unit': 'ea'}, {'ingredient': 'Heavy cream', 'quantity': 59.14, 'unit': 'ml'}, {'ingredient': 'Tomato', 'quantity': 14.79, 'unit': 'ml'}, {'ingredient': 'Salt', 'quantity': 0.61, 'unit': 'ml'}, {'ingredient': 'Basil', 'quantity': 0.61, 'unit': 'ml'}, {'ingredient': 'Pepper', 'quantity': 0.3, 'unit': 'ml'}, {'ingredient': 'Garlic powder', 'quantity': 0.3, 'unit': 'ml'}, {'ingredient': 'Parmesan cheese', 'quantity': 29.57, 'unit': 'ml'}]\n"
     ]
    }
   ],
   "source": [
    "print(recipe)\n",
    "print(ingredList)"
   ]
  }
 ],
 "metadata": {
  "kernelspec": {
   "display_name": "Python 3.9.1 64-bit",
   "language": "python",
   "name": "python3"
  },
  "language_info": {
   "codemirror_mode": {
    "name": "ipython",
    "version": 3
   },
   "file_extension": ".py",
   "mimetype": "text/x-python",
   "name": "python",
   "nbconvert_exporter": "python",
   "pygments_lexer": "ipython3",
   "version": "3.9.1"
  },
  "orig_nbformat": 4,
  "vscode": {
   "interpreter": {
    "hash": "aee8b7b246df8f9039afb4144a1f6fd8d2ca17a180786b69acc140d282b71a49"
   }
  }
 },
 "nbformat": 4,
 "nbformat_minor": 2
}
