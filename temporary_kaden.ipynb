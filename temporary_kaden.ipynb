{
 "cells": [
  {
   "cell_type": "code",
   "execution_count": 1,
   "metadata": {},
   "outputs": [],
   "source": [
    "import re\n",
    "import requests\n",
    "from bs4 import BeautifulSoup\n",
    "\n",
    "import greenrecipe_web as web\n",
    "import greenrecipe_db as db\n",
    "import greenrecipe_nlp as nlp\n",
    "import greenrecipe_total as total\n",
    "from sqlalchemy.orm import Session\n",
    "\n",
    "import json\n"
   ]
  },
  {
   "cell_type": "markdown",
   "metadata": {},
   "source": [
    "## What's happened inside greenrecipe_back_end"
   ]
  },
  {
   "cell_type": "code",
   "execution_count": 2,
   "metadata": {},
   "outputs": [
    {
     "name": "stdout",
     "output_type": "stream",
     "text": [
      "----------------------------------------\n",
      "['userhistory', 'nlpsimresult']\n",
      "## db constructor success!\n",
      "----------------------------------------\n",
      "## nlp constructor success!\n"
     ]
    },
    {
     "name": "stderr",
     "output_type": "stream",
     "text": [
      "Warning : `load_model` does not return WordVectorModel or SupervisedModel any more, but a `FastText` object which is very similar.\n"
     ]
    }
   ],
   "source": [
    "gr = total.greenrecipe()"
   ]
  },
  {
   "cell_type": "code",
   "execution_count": 5,
   "metadata": {},
   "outputs": [
    {
     "name": "stdout",
     "output_type": "stream",
     "text": [
      "----------------------------------------\n",
      "## Web Scraping ....\n",
      "## Scraping recipe ingredients ....\n",
      "Creamy Cajun Chicken Pasta Recipe\n",
      "[{'ingredient': 'chicken', 'quantity': 1.0, 'unit': 'ea'}, {'ingredient': 'pasta', 'quantity': 56.699, 'unit': 'g'}, {'ingredient': 'butter', 'quantity': 14.788999999999998, 'unit': 'ml'}, {'ingredient': 'green onion', 'quantity': 0.5, 'unit': 'ea'}, {'ingredient': 'heavy cream', 'quantity': 59.147000000000006, 'unit': 'ml'}, {'ingredient': 'tomato', 'quantity': 14.788999999999998, 'unit': 'ml'}, {'ingredient': 'salt', 'quantity': 0.616, 'unit': 'ml'}, {'ingredient': 'basil', 'quantity': 0.616, 'unit': 'ml'}, {'ingredient': 'pepper', 'quantity': 0.308, 'unit': 'ml'}, {'ingredient': 'garlic powder', 'quantity': 0.308, 'unit': 'ml'}, {'ingredient': 'parmesan cheese', 'quantity': 29.573, 'unit': 'ml'}]\n",
      "----------------------------------------\n",
      "## NLP for Ingredient ....\n",
      "[{'ingrd': '5E5FM', 'result': [('A', 0.01), ('B', 0.01), ('C', 0.01)]}]\n",
      "## Update nlpsimresult DB ....\n",
      "----------------------------------------\n",
      "## Calculate CO2 ....\n",
      "## Update userhistory DB ....\n",
      "471.37\n",
      "----------------------------------------\n",
      "Done!\n",
      "\n",
      "\n",
      "\n",
      " {'recipeName': 'Creamy Cajun Chicken Pasta Recipe', 'totalCO2': 471.37, 'ingrdCO2List': [{'ingredient': 'chicken', 'co2': 2.48}, {'ingredient': 'pasta', 'co2': 26.08}, {'ingredient': 'butter', 'co2': 125.56}, {'ingredient': 'green onion', 'co2': 0.22}, {'ingredient': 'full cream milk', 'co2': 117.11}, {'ingredient': 'tomato', 'co2': 27.66}, {'ingredient': 'salt', 'co2': 0.36}, {'ingredient': 'basil', 'co2': 1.92}, {'ingredient': 'pepper', 'co2': 1.64}, {'ingredient': 'onion powder', 'co2': 1.25}, {'ingredient': 'cream cheese', 'co2': 167.09}]}\n"
     ]
    }
   ],
   "source": [
    "# input = 'https://www.food.com/recipe/creamy-cajun-chicken-pasta-39087'\n",
    "input = 'creamy-cajun-chicken-pasta-39087'\n",
    "# input = 'sweet-and-spicy-vegetarian-chili-97649'\n",
    "\n",
    "result = gr.get_co2_emissions(input, True)\n",
    "print('\\n\\n\\n',result)"
   ]
  },
  {
   "cell_type": "code",
   "execution_count": 11,
   "metadata": {},
   "outputs": [
    {
     "data": {
      "text/plain": [
       "\"{'recipeName': 'Creamy Cajun Chicken Pasta Recipe', 'totalCO2': 471.37, 'ingrdCO2List': [{'ingredient': 'chicken', 'co2': 2.48}, {'ingredient': 'pasta', 'co2': 26.08}, {'ingredient': 'butter', 'co2': 125.56}, {'ingredient': 'green onion', 'co2': 0.22}, {'ingredient': 'full cream milk', 'co2': 117.11}, {'ingredient': 'tomato', 'co2': 27.66}, {'ingredient': 'salt', 'co2': 0.36}, {'ingredient': 'basil', 'co2': 1.92}, {'ingredient': 'pepper', 'co2': 1.64}, {'ingredient': 'onion powder', 'co2': 1.25}, {'ingredient': 'cream cheese', 'co2': 167.09}]}\""
      ]
     },
     "execution_count": 11,
     "metadata": {},
     "output_type": "execute_result"
    }
   ],
   "source": [
    "'{}'.format(result)"
   ]
  },
  {
   "cell_type": "markdown",
   "metadata": {},
   "source": [
    "## Detail behavior"
   ]
  },
  {
   "cell_type": "code",
   "execution_count": 4,
   "metadata": {},
   "outputs": [
    {
     "name": "stdout",
     "output_type": "stream",
     "text": [
      "1.232 <class 'float'>\n",
      "0.3 <class 'float'>\n",
      "0.1 <class 'float'>\n",
      "0.4 <class 'float'>\n",
      "1.848 <class 'float'>\n",
      "1.232 <class 'float'>\n",
      "0.616 <class 'float'>\n",
      "0.1 <class 'float'>\n",
      "15.946000000000002 <class 'float'>\n",
      "0.616 <class 'float'>\n",
      "22.18 <class 'float'>\n",
      "51.383 <class 'float'>\n",
      "51.383 <class 'float'>\n",
      "51.383 <class 'float'>\n",
      "29.573 <class 'float'>\n",
      "0.616 <class 'float'>\n",
      "1.848 <class 'float'>\n",
      "3.697 <class 'float'>\n",
      "0.924 <class 'float'>\n",
      "0.0 <class 'float'>\n",
      "0.0 <class 'float'>\n",
      "0.0 <class 'float'>\n",
      "0.0 <class 'float'>\n",
      "Sweet and Spicy Vegetarian Chili Recipe\n",
      "[{'ingredient': 'canola oil', 'quantity': 1.232, 'unit': 'ml'}, {'ingredient': 'onion', 'quantity': 0.3, 'unit': 'ea'}, {'ingredient': 'sweet pepper', 'quantity': 0.1, 'unit': 'ea'}, {'ingredient': 'garlic', 'quantity': 0.4, 'unit': 'ea'}, {'ingredient': 'chili powder', 'quantity': 1.848, 'unit': 'ml'}, {'ingredient': 'cumin', 'quantity': 1.232, 'unit': 'ml'}, {'ingredient': 'oregano', 'quantity': 0.616, 'unit': 'ml'}, {'ingredient': 'bay leaf', 'quantity': 0.1, 'unit': 'ea'}, {'ingredient': 'chile pepper', 'quantity': 15.946000000000002, 'unit': 'g'}, {'ingredient': 'salt', 'quantity': 0.616, 'unit': 'ml'}, {'ingredient': 'broth', 'quantity': 22.18, 'unit': 'ml'}, {'ingredient': 'tomato', 'quantity': 51.383, 'unit': 'g'}, {'ingredient': 'kidney bean', 'quantity': 51.383, 'unit': 'g'}, {'ingredient': 'black bean', 'quantity': 51.383, 'unit': 'g'}, {'ingredient': 'corn', 'quantity': 29.573, 'unit': 'ml'}, {'ingredient': 'worcestershire sauce', 'quantity': 1.848, 'unit': 'ml'}, {'ingredient': 'barley', 'quantity': 3.697, 'unit': 'ml'}, {'ingredient': 'pepper', 'quantity': 0.0, 'unit': 'ea'}, {'ingredient': 'avocado', 'quantity': 0.0, 'unit': 'ea'}, {'ingredient': 'jack cheese', 'quantity': 0.0, 'unit': 'ea'}, {'ingredient': 'sour cream', 'quantity': 0.0, 'unit': 'ea'}]\n"
     ]
    }
   ],
   "source": [
    "# input = 'https://www.food.com/recipe/creamy-cajun-chicken-pasta-39087'\n",
    "input = 'sweet-and-spicy-vegetarian-chili-97649'\n",
    "\n",
    "urlsoup = web.requestRecipeUrl(input)\n",
    "recipeName, ingrdList = web.parseRecipeIngrd(urlsoup)\n",
    "print(recipeName)\n",
    "print(ingrdList)"
   ]
  },
  {
   "cell_type": "code",
   "execution_count": 5,
   "metadata": {},
   "outputs": [
    {
     "name": "stdout",
     "output_type": "stream",
     "text": [
      "[{'ingredient': 'peas', 'co2': 0.4}, {'ingredient': 'runner beans', 'co2': 30.44}, {'ingredient': 'beef cold cuts', 'co2': 116.84}, {'ingredient': 'apple juice', 'co2': 0.4}, {'ingredient': 'peach', 'co2': 34.95}, {'ingredient': 'poppy seed', 'co2': 13.61}, {'ingredient': 'fish oil', 'co2': 0.73}, {'ingredient': 'celery', 'co2': 0.34}, {'ingredient': 'gem squash', 'co2': 0.06}, {'ingredient': 'sour cream', 'co2': 0.9}, {'ingredient': 'coconut', 'co2': 26.97}]\n",
      "225.64\n"
     ]
    }
   ],
   "source": [
    "ingrdList = nlp.ingrd_matching(ingrdList)\n",
    "\n",
    "greenrecipe_db = db.greenrecipe_db()\n",
    "total_co2, ingrdList_co2 = greenrecipe_db.search_ingrdCO2_total(ingrdList)\n",
    "\n",
    "print(ingrdList_co2)\n",
    "print(total_co2)"
   ]
  },
  {
   "cell_type": "code",
   "execution_count": null,
   "metadata": {},
   "outputs": [],
   "source": []
  }
 ],
 "metadata": {
  "kernelspec": {
   "display_name": "Python 3.9.1 64-bit",
   "language": "python",
   "name": "python3"
  },
  "language_info": {
   "codemirror_mode": {
    "name": "ipython",
    "version": 3
   },
   "file_extension": ".py",
   "mimetype": "text/x-python",
   "name": "python",
   "nbconvert_exporter": "python",
   "pygments_lexer": "ipython3",
   "version": "3.9.1"
  },
  "orig_nbformat": 4,
  "vscode": {
   "interpreter": {
    "hash": "aee8b7b246df8f9039afb4144a1f6fd8d2ca17a180786b69acc140d282b71a49"
   }
  }
 },
 "nbformat": 4,
 "nbformat_minor": 2
}
