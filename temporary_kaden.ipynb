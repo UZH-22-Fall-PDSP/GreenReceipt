{
 "cells": [
  {
   "cell_type": "code",
   "execution_count": 1,
   "metadata": {},
   "outputs": [],
   "source": [
    "import re\n",
    "import requests\n",
    "from bs4 import BeautifulSoup\n",
    "\n",
    "import greenrecipe_web as web\n",
    "import greenrecipe_db as db\n",
    "import greenrecipe_nlp as nlp\n",
    "import greenrecipe_total\n",
    "\n",
    "# input = 'https://www.food.com/recipe/creamy-cajun-chicken-pasta-39087'\n",
    "input = 'creamy-cajun-chicken-pasta-39087'\n",
    "gr = greenrecipe_total.greenrecipe()\n"
   ]
  },
  {
   "cell_type": "code",
   "execution_count": 2,
   "metadata": {},
   "outputs": [
    {
     "name": "stdout",
     "output_type": "stream",
     "text": [
      "{'recipeName': 'Creamy Cajun Chicken Pasta Recipe', 'totalCO2': 225.64, 'ingrdCO2List': [{'ingredient': 'peas', 'co2': 0.4}, {'ingredient': 'runner beans', 'co2': 30.44}, {'ingredient': 'beef cold cuts', 'co2': 116.84}, {'ingredient': 'apple juice', 'co2': 0.4}, {'ingredient': 'peach', 'co2': 34.95}, {'ingredient': 'poppy seed', 'co2': 13.61}, {'ingredient': 'fish oil', 'co2': 0.73}, {'ingredient': 'celery', 'co2': 0.34}, {'ingredient': 'gem squash', 'co2': 0.06}, {'ingredient': 'sour cream', 'co2': 0.9}, {'ingredient': 'coconut', 'co2': 26.97}]}\n"
     ]
    }
   ],
   "source": [
    "result = gr.get_co2_emissions(input)\n",
    "print(result)"
   ]
  },
  {
   "cell_type": "code",
   "execution_count": 3,
   "metadata": {},
   "outputs": [
    {
     "data": {
      "text/plain": [
       "\"{'recipeName': 'Creamy Cajun Chicken Pasta Recipe', 'totalCO2': 225.64, 'ingrdCO2List': [{'ingredient': 'peas', 'co2': 0.4}, {'ingredient': 'runner beans', 'co2': 30.44}, {'ingredient': 'beef cold cuts', 'co2': 116.84}, {'ingredient': 'apple juice', 'co2': 0.4}, {'ingredient': 'peach', 'co2': 34.95}, {'ingredient': 'poppy seed', 'co2': 13.61}, {'ingredient': 'fish oil', 'co2': 0.73}, {'ingredient': 'celery', 'co2': 0.34}, {'ingredient': 'gem squash', 'co2': 0.06}, {'ingredient': 'sour cream', 'co2': 0.9}, {'ingredient': 'coconut', 'co2': 26.97}]}\""
      ]
     },
     "execution_count": 3,
     "metadata": {},
     "output_type": "execute_result"
    }
   ],
   "source": [
    "'{}'.format(result)"
   ]
  },
  {
   "cell_type": "code",
   "execution_count": 4,
   "metadata": {},
   "outputs": [
    {
     "name": "stdout",
     "output_type": "stream",
     "text": [
      "Creamy Cajun Chicken Pasta Recipe\n",
      "[{'ingredient': 'chicken', 'quantity': 1.0, 'unit': 'ea'}, {'ingredient': 'pasta', 'quantity': 56.69, 'unit': 'g'}, {'ingredient': 'butter', 'quantity': 14.79, 'unit': 'ml'}, {'ingredient': 'green onion', 'quantity': 1.0, 'unit': 'ea'}, {'ingredient': 'heavy cream', 'quantity': 59.14, 'unit': 'ml'}, {'ingredient': 'tomato', 'quantity': 14.79, 'unit': 'ml'}, {'ingredient': 'salt', 'quantity': 0.61, 'unit': 'ml'}, {'ingredient': 'basil', 'quantity': 0.61, 'unit': 'ml'}, {'ingredient': 'pepper', 'quantity': 0.3, 'unit': 'ml'}, {'ingredient': 'garlic powder', 'quantity': 0.3, 'unit': 'ml'}, {'ingredient': 'parmesan cheese', 'quantity': 29.57, 'unit': 'ml'}]\n"
     ]
    }
   ],
   "source": [
    "urlsoup = web.requestRecipeUrl(input)\n",
    "recipeName, ingrdList = web.parseRecipeIngrd(urlsoup)\n",
    "print(recipeName)\n",
    "print(ingrdList)"
   ]
  },
  {
   "cell_type": "code",
   "execution_count": 5,
   "metadata": {},
   "outputs": [
    {
     "name": "stdout",
     "output_type": "stream",
     "text": [
      "[{'ingredient': 'peas', 'co2': 0.4}, {'ingredient': 'runner beans', 'co2': 30.44}, {'ingredient': 'beef cold cuts', 'co2': 116.84}, {'ingredient': 'apple juice', 'co2': 0.4}, {'ingredient': 'peach', 'co2': 34.95}, {'ingredient': 'poppy seed', 'co2': 13.61}, {'ingredient': 'fish oil', 'co2': 0.73}, {'ingredient': 'celery', 'co2': 0.34}, {'ingredient': 'gem squash', 'co2': 0.06}, {'ingredient': 'sour cream', 'co2': 0.9}, {'ingredient': 'coconut', 'co2': 26.97}]\n",
      "225.64\n"
     ]
    }
   ],
   "source": [
    "ingrdList = nlp.ingrd_matching(ingrdList)\n",
    "\n",
    "greenrecipe_db = db.greenrecipe_db()\n",
    "total_co2, ingrdList_co2 = greenrecipe_db.search_ingrdCO2_total(ingrdList)\n",
    "\n",
    "print(ingrdList_co2)\n",
    "print(total_co2)"
   ]
  },
  {
   "cell_type": "code",
   "execution_count": null,
   "metadata": {},
   "outputs": [],
   "source": []
  }
 ],
 "metadata": {
  "kernelspec": {
   "display_name": "Python 3.9.1 64-bit",
   "language": "python",
   "name": "python3"
  },
  "language_info": {
   "codemirror_mode": {
    "name": "ipython",
    "version": 3
   },
   "file_extension": ".py",
   "mimetype": "text/x-python",
   "name": "python",
   "nbconvert_exporter": "python",
   "pygments_lexer": "ipython3",
   "version": "3.9.1"
  },
  "orig_nbformat": 4,
  "vscode": {
   "interpreter": {
    "hash": "aee8b7b246df8f9039afb4144a1f6fd8d2ca17a180786b69acc140d282b71a49"
   }
  }
 },
 "nbformat": 4,
 "nbformat_minor": 2
}
