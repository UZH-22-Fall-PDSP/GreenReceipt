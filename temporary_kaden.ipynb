{
 "cells": [
  {
   "cell_type": "code",
   "execution_count": 1,
   "metadata": {},
   "outputs": [],
   "source": [
    "import re\n",
    "import requests\n",
    "from bs4 import BeautifulSoup\n",
    "\n",
    "import greenrecipe_web as web\n",
    "import greenrecipe_db as db\n",
    "import greenrecipe_nlp as nlp\n",
    "import greenrecipe_total\n",
    "\n",
    "# input = 'https://www.food.com/recipe/creamy-cajun-chicken-pasta-39087'\n",
    "input = 'creamy-cajun-chicken-pasta-39087'\n",
    "gr = greenrecipe_total.greenrecipe()\n"
   ]
  },
  {
   "cell_type": "code",
   "execution_count": 2,
   "metadata": {},
   "outputs": [
    {
     "ename": "AttributeError",
     "evalue": "module 'greenrecipe_nlp' has no attribute 'find_similar_ing'",
     "output_type": "error",
     "traceback": [
      "\u001b[0;31m---------------------------------------------------------------------------\u001b[0m",
      "\u001b[0;31mAttributeError\u001b[0m                            Traceback (most recent call last)",
      "\u001b[0;32m<ipython-input-2-87f81df6939a>\u001b[0m in \u001b[0;36m<module>\u001b[0;34m\u001b[0m\n\u001b[0;32m----> 1\u001b[0;31m \u001b[0mresult\u001b[0m \u001b[0;34m=\u001b[0m \u001b[0mgr\u001b[0m\u001b[0;34m.\u001b[0m\u001b[0mget_co2_emissions\u001b[0m\u001b[0;34m(\u001b[0m\u001b[0minput\u001b[0m\u001b[0;34m)\u001b[0m\u001b[0;34m\u001b[0m\u001b[0;34m\u001b[0m\u001b[0m\n\u001b[0m\u001b[1;32m      2\u001b[0m \u001b[0mprint\u001b[0m\u001b[0;34m(\u001b[0m\u001b[0mresult\u001b[0m\u001b[0;34m)\u001b[0m\u001b[0;34m\u001b[0m\u001b[0;34m\u001b[0m\u001b[0m\n",
      "\u001b[0;32m~/Desktop/github/uzh/UZH-HS22-PDSP/GreenRecipe-Backend/greenrecipe_total.py\u001b[0m in \u001b[0;36mget_co2_emissions\u001b[0;34m(self, recipe)\u001b[0m\n\u001b[1;32m     15\u001b[0m         \u001b[0mrecipeName\u001b[0m\u001b[0;34m,\u001b[0m \u001b[0mingrdList\u001b[0m \u001b[0;34m=\u001b[0m \u001b[0mweb\u001b[0m\u001b[0;34m.\u001b[0m\u001b[0mparseRecipeIngrd\u001b[0m\u001b[0;34m(\u001b[0m\u001b[0murlsoup\u001b[0m\u001b[0;34m)\u001b[0m\u001b[0;34m\u001b[0m\u001b[0;34m\u001b[0m\u001b[0m\n\u001b[1;32m     16\u001b[0m \u001b[0;34m\u001b[0m\u001b[0m\n\u001b[0;32m---> 17\u001b[0;31m         \u001b[0mingrdList\u001b[0m \u001b[0;34m=\u001b[0m \u001b[0mnlp\u001b[0m\u001b[0;34m.\u001b[0m\u001b[0mfind_similar_ing\u001b[0m\u001b[0;34m(\u001b[0m\u001b[0mingrdList\u001b[0m\u001b[0;34m)\u001b[0m\u001b[0;34m\u001b[0m\u001b[0;34m\u001b[0m\u001b[0m\n\u001b[0m\u001b[1;32m     18\u001b[0m \u001b[0;34m\u001b[0m\u001b[0m\n\u001b[1;32m     19\u001b[0m         \u001b[0mtotal_co2\u001b[0m\u001b[0;34m,\u001b[0m \u001b[0mingrdList_co2\u001b[0m \u001b[0;34m=\u001b[0m \u001b[0mself\u001b[0m\u001b[0;34m.\u001b[0m\u001b[0mgrp_db\u001b[0m\u001b[0;34m.\u001b[0m\u001b[0msearch_ingrdCO2_total\u001b[0m\u001b[0;34m(\u001b[0m\u001b[0mingrdList\u001b[0m\u001b[0;34m)\u001b[0m\u001b[0;34m\u001b[0m\u001b[0;34m\u001b[0m\u001b[0m\n",
      "\u001b[0;31mAttributeError\u001b[0m: module 'greenrecipe_nlp' has no attribute 'find_similar_ing'"
     ]
    }
   ],
   "source": [
    "result = gr.get_co2_emissions(input)\n",
    "print(result)"
   ]
  },
  {
   "cell_type": "code",
   "execution_count": 3,
   "metadata": {},
   "outputs": [
    {
     "data": {
      "text/plain": [
       "\"{'recipeName': 'Creamy Cajun Chicken Pasta Recipe', 'totalCO2': 225.64, 'ingrdCO2List': [{'ingredient': 'peas', 'co2': 0.4}, {'ingredient': 'runner beans', 'co2': 30.44}, {'ingredient': 'beef cold cuts', 'co2': 116.84}, {'ingredient': 'apple juice', 'co2': 0.4}, {'ingredient': 'peach', 'co2': 34.95}, {'ingredient': 'poppy seed', 'co2': 13.61}, {'ingredient': 'fish oil', 'co2': 0.73}, {'ingredient': 'celery', 'co2': 0.34}, {'ingredient': 'gem squash', 'co2': 0.06}, {'ingredient': 'sour cream', 'co2': 0.9}, {'ingredient': 'coconut', 'co2': 26.97}]}\""
      ]
     },
     "execution_count": 3,
     "metadata": {},
     "output_type": "execute_result"
    }
   ],
   "source": [
    "'{}'.format(result)"
   ]
  },
  {
   "cell_type": "code",
   "execution_count": 4,
   "metadata": {},
   "outputs": [
    {
     "name": "stdout",
     "output_type": "stream",
     "text": [
      "Creamy Cajun Chicken Pasta Recipe\n",
      "[{'ingredient': 'chicken', 'quantity': 1.0, 'unit': 'ea'}, {'ingredient': 'pasta', 'quantity': 56.69, 'unit': 'g'}, {'ingredient': 'butter', 'quantity': 14.79, 'unit': 'ml'}, {'ingredient': 'green onion', 'quantity': 1.0, 'unit': 'ea'}, {'ingredient': 'heavy cream', 'quantity': 59.14, 'unit': 'ml'}, {'ingredient': 'tomato', 'quantity': 14.79, 'unit': 'ml'}, {'ingredient': 'salt', 'quantity': 0.61, 'unit': 'ml'}, {'ingredient': 'basil', 'quantity': 0.61, 'unit': 'ml'}, {'ingredient': 'pepper', 'quantity': 0.3, 'unit': 'ml'}, {'ingredient': 'garlic powder', 'quantity': 0.3, 'unit': 'ml'}, {'ingredient': 'parmesan cheese', 'quantity': 29.57, 'unit': 'ml'}]\n"
     ]
    }
   ],
   "source": [
    "urlsoup = web.requestRecipeUrl(input)\n",
    "recipeName, ingrdList = web.parseRecipeIngrd(urlsoup)\n",
    "print(recipeName)\n",
    "print(ingrdList)"
   ]
  },
  {
   "cell_type": "code",
   "execution_count": 5,
   "metadata": {},
   "outputs": [
    {
     "name": "stdout",
     "output_type": "stream",
     "text": [
      "[{'ingredient': 'peas', 'co2': 0.4}, {'ingredient': 'runner beans', 'co2': 30.44}, {'ingredient': 'beef cold cuts', 'co2': 116.84}, {'ingredient': 'apple juice', 'co2': 0.4}, {'ingredient': 'peach', 'co2': 34.95}, {'ingredient': 'poppy seed', 'co2': 13.61}, {'ingredient': 'fish oil', 'co2': 0.73}, {'ingredient': 'celery', 'co2': 0.34}, {'ingredient': 'gem squash', 'co2': 0.06}, {'ingredient': 'sour cream', 'co2': 0.9}, {'ingredient': 'coconut', 'co2': 26.97}]\n",
      "225.64\n"
     ]
    }
   ],
   "source": [
    "ingrdList = nlp.ingrd_matching(ingrdList)\n",
    "\n",
    "greenrecipe_db = db.greenrecipe_db()\n",
    "total_co2, ingrdList_co2 = greenrecipe_db.search_ingrdCO2_total(ingrdList)\n",
    "\n",
    "print(ingrdList_co2)\n",
    "print(total_co2)"
   ]
  },
  {
   "cell_type": "code",
   "execution_count": null,
   "metadata": {},
   "outputs": [],
   "source": []
  }
 ],
 "metadata": {
  "kernelspec": {
   "display_name": "Python 3.9.1 64-bit",
   "language": "python",
   "name": "python3"
  },
  "language_info": {
   "codemirror_mode": {
    "name": "ipython",
    "version": 3
   },
   "file_extension": ".py",
   "mimetype": "text/x-python",
   "name": "python",
   "nbconvert_exporter": "python",
   "pygments_lexer": "ipython3",
   "version": "3.9.1"
  },
  "orig_nbformat": 4,
  "vscode": {
   "interpreter": {
    "hash": "aee8b7b246df8f9039afb4144a1f6fd8d2ca17a180786b69acc140d282b71a49"
   }
  }
 },
 "nbformat": 4,
 "nbformat_minor": 2
}
