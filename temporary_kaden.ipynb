{
 "cells": [
  {
   "cell_type": "code",
   "execution_count": 1,
   "metadata": {},
   "outputs": [],
   "source": [
    "import re\n",
    "import requests\n",
    "from bs4 import BeautifulSoup\n",
    "\n",
    "import greenrecipe_web as web\n",
    "import greenrecipe_db as db\n",
    "import greenrecipe_nlp as nlp\n",
    "import greenrecipe_total as total\n",
    "from sqlalchemy.orm import Session\n",
    "\n",
    "import json\n"
   ]
  },
  {
   "cell_type": "markdown",
   "metadata": {},
   "source": [
    "## What's happened inside greenrecipe_back_end"
   ]
  },
  {
   "cell_type": "code",
   "execution_count": 2,
   "metadata": {},
   "outputs": [
    {
     "name": "stdout",
     "output_type": "stream",
     "text": [
      "----------------------------------------\n",
      "## db constructor success!\n",
      "GCP DB Tables :  ['programmer', 'workson', 'project', 'userhistory', 'sells', 'nlpsimresult']\n",
      "REF DB Tables :  ['emissions', 'cooking_units', 'cooking_vocabulary', 'plurals_en', 'synonyms_en', 'recipes_table']\n",
      "----------------------------------------\n",
      "## nlp constructor success!\n"
     ]
    },
    {
     "name": "stderr",
     "output_type": "stream",
     "text": [
      "Warning : `load_model` does not return WordVectorModel or SupervisedModel any more, but a `FastText` object which is very similar.\n"
     ]
    }
   ],
   "source": [
    "gr = total.greenrecipe()"
   ]
  },
  {
   "cell_type": "code",
   "execution_count": 3,
   "metadata": {},
   "outputs": [
    {
     "name": "stdout",
     "output_type": "stream",
     "text": [
      "----------------------------------------\n",
      "## Web Scraping ....\n",
      "## Scraping recipe ingredients ....\n",
      "Sweet and Spicy Vegetarian Chili Recipe\n",
      "[{'ingredient': 'canola oil', 'quantity': 1.232, 'unit': 'ml'}, {'ingredient': 'onion', 'quantity': 0.3, 'unit': 'ea'}, {'ingredient': 'sweet pepper', 'quantity': 0.1, 'unit': 'ea'}, {'ingredient': 'garlic', 'quantity': 0.4, 'unit': 'ea'}, {'ingredient': 'chili powder', 'quantity': 1.848, 'unit': 'ml'}, {'ingredient': 'cumin', 'quantity': 1.232, 'unit': 'ml'}, {'ingredient': 'oregano', 'quantity': 0.616, 'unit': 'ml'}, {'ingredient': 'bay leaf', 'quantity': 0.1, 'unit': 'ea'}, {'ingredient': 'chile pepper', 'quantity': 15.946000000000002, 'unit': 'g'}, {'ingredient': 'salt', 'quantity': 0.616, 'unit': 'ml'}, {'ingredient': 'broth', 'quantity': 22.18, 'unit': 'ml'}, {'ingredient': 'tomato', 'quantity': 51.383, 'unit': 'g'}, {'ingredient': 'kidney bean', 'quantity': 51.383, 'unit': 'g'}, {'ingredient': 'black bean', 'quantity': 51.383, 'unit': 'g'}, {'ingredient': 'corn', 'quantity': 29.573, 'unit': 'ml'}, {'ingredient': 'worcestershire sauce', 'quantity': 1.848, 'unit': 'ml'}, {'ingredient': 'barley', 'quantity': 3.697, 'unit': 'ml'}, {'ingredient': 'pepper', 'quantity': 0.0, 'unit': 'ea'}, {'ingredient': 'avocado', 'quantity': 0.0, 'unit': 'ea'}, {'ingredient': 'jack cheese', 'quantity': 0.0, 'unit': 'ea'}, {'ingredient': 'sour cream', 'quantity': 0.0, 'unit': 'ea'}]\n",
      "----------------------------------------\n",
      "## NLP for Ingredient ....\n",
      "[{'ingrd': 'canola oil', 'res': [('wheat bread', 0.4313362240791321), ('lupin flour', 0.4513791799545288), ('veggie patty', 0.4551239609718323)]}, {'ingrd': 'sweet pepper', 'res': [('sweet potato', 0.2781902551651001), ('sweet sorghum stem', 0.3837931156158447), ('sweet sorghum grain', 0.4038417339324951)]}, {'ingrd': 'chili powder', 'res': [('onion powder', 0.2523954510688782), ('beef broth', 0.3009960651397705), ('cashew nuts', 0.3148137927055359)]}, {'ingrd': 'bay leaf', 'res': [('bay leaves', 0.3176800608634949), ('collard green', 0.5804938673973083), ('full cream milk', 0.6069278419017792)]}, {'ingrd': 'chile pepper', 'res': [('bell pepper', 0.28683358430862427), ('sunflower seeds', 0.3121594190597534), ('green bell pepper', 0.3163597583770752)]}, {'ingrd': 'broth', 'res': [('chicken', 0.49943482875823975), ('tarragon', 0.5212082266807556), ('cornstarch', 0.5244733095169067)]}, {'ingrd': 'kidney bean', 'res': [('kidney beans', 0.1098015308380127), ('crab apple', 0.372398316860199), ('cashew nuts', 0.39839136600494385)]}, {'ingrd': 'black bean', 'res': [('black beans', 0.2594408392906189), ('black cod', 0.40454965829849243), ('white chocolate', 0.42596787214279175)]}, {'ingrd': 'worcestershire sauce', 'res': [('tabasco sauce', 0.39151644706726074), ('soy sauce', 0.41448599100112915), ('japanese plum', 0.4204397201538086)]}, {'ingrd': 'jack cheese', 'res': [('curd cheese', 0.2543579936027527), ('cream cheese', 0.27765506505966187), ('low-fat curd cheese', 0.2871483564376831)]}]\n",
      "## Update nlpsimresult DB ....\n",
      "----------------------------------------\n",
      "## Calculate CO2 ....\n",
      "## Update userhistory DB ....\n",
      "322.86\n",
      "----------------------------------------\n",
      "Done!\n",
      "\n",
      "\n",
      "\n",
      " {'recipeName': 'Sweet and Spicy Vegetarian Chili Recipe', 'totalCO2': 322.86, 'ingrdCO2List': [{'ingredient': 'wheat bread', 'co2': 0.75}, {'ingredient': 'onion', 'co2': 0.13}, {'ingredient': 'sweet potato', 'co2': 0.04}, {'ingredient': 'garlic', 'co2': 0.18}, {'ingredient': 'onion powder', 'co2': 7.53}, {'ingredient': 'cumin', 'co2': 0.8}, {'ingredient': 'oregano', 'co2': 1.45}, {'ingredient': 'bay leaves', 'co2': 0.06}, {'ingredient': 'bell pepper', 'co2': 41.78}, {'ingredient': 'salt', 'co2': 0.36}, {'ingredient': 'chicken', 'co2': 55.01}, {'ingredient': 'tomato', 'co2': 96.09}, {'ingredient': 'kidney beans', 'co2': 36.53}, {'ingredient': 'black beans', 'co2': 36.53}, {'ingredient': 'corn', 'co2': 35.49}, {'ingredient': 'tabasco sauce', 'co2': 7.9}, {'ingredient': 'barley', 'co2': 2.23}, {'ingredient': 'pepper', 'co2': 0.0}, {'ingredient': 'avocado', 'co2': 0.0}, {'ingredient': 'curd cheese', 'co2': 0.0}, {'ingredient': 'sour cream', 'co2': 0.0}]}\n"
     ]
    }
   ],
   "source": [
    "# input = 'https://www.food.com/recipe/creamy-cajun-chicken-pasta-39087'\n",
    "# input = 'creamy-cajun-chicken-pasta-39087'\n",
    "input = 'sweet-and-spicy-vegetarian-chili-97649'\n",
    "\n",
    "result = gr.get_co2_emissions(input, True)\n",
    "print('\\n\\n\\n',result)"
   ]
  },
  {
   "cell_type": "markdown",
   "metadata": {},
   "source": [
    "## Detail behavior"
   ]
  },
  {
   "cell_type": "code",
   "execution_count": 4,
   "metadata": {},
   "outputs": [
    {
     "name": "stdout",
     "output_type": "stream",
     "text": [
      "1.232 <class 'float'>\n",
      "0.3 <class 'float'>\n",
      "0.1 <class 'float'>\n",
      "0.4 <class 'float'>\n",
      "1.848 <class 'float'>\n",
      "1.232 <class 'float'>\n",
      "0.616 <class 'float'>\n",
      "0.1 <class 'float'>\n",
      "15.946000000000002 <class 'float'>\n",
      "0.616 <class 'float'>\n",
      "22.18 <class 'float'>\n",
      "51.383 <class 'float'>\n",
      "51.383 <class 'float'>\n",
      "51.383 <class 'float'>\n",
      "29.573 <class 'float'>\n",
      "0.616 <class 'float'>\n",
      "1.848 <class 'float'>\n",
      "3.697 <class 'float'>\n",
      "0.924 <class 'float'>\n",
      "0.0 <class 'float'>\n",
      "0.0 <class 'float'>\n",
      "0.0 <class 'float'>\n",
      "0.0 <class 'float'>\n",
      "Sweet and Spicy Vegetarian Chili Recipe\n",
      "[{'ingredient': 'canola oil', 'quantity': 1.232, 'unit': 'ml'}, {'ingredient': 'onion', 'quantity': 0.3, 'unit': 'ea'}, {'ingredient': 'sweet pepper', 'quantity': 0.1, 'unit': 'ea'}, {'ingredient': 'garlic', 'quantity': 0.4, 'unit': 'ea'}, {'ingredient': 'chili powder', 'quantity': 1.848, 'unit': 'ml'}, {'ingredient': 'cumin', 'quantity': 1.232, 'unit': 'ml'}, {'ingredient': 'oregano', 'quantity': 0.616, 'unit': 'ml'}, {'ingredient': 'bay leaf', 'quantity': 0.1, 'unit': 'ea'}, {'ingredient': 'chile pepper', 'quantity': 15.946000000000002, 'unit': 'g'}, {'ingredient': 'salt', 'quantity': 0.616, 'unit': 'ml'}, {'ingredient': 'broth', 'quantity': 22.18, 'unit': 'ml'}, {'ingredient': 'tomato', 'quantity': 51.383, 'unit': 'g'}, {'ingredient': 'kidney bean', 'quantity': 51.383, 'unit': 'g'}, {'ingredient': 'black bean', 'quantity': 51.383, 'unit': 'g'}, {'ingredient': 'corn', 'quantity': 29.573, 'unit': 'ml'}, {'ingredient': 'worcestershire sauce', 'quantity': 1.848, 'unit': 'ml'}, {'ingredient': 'barley', 'quantity': 3.697, 'unit': 'ml'}, {'ingredient': 'pepper', 'quantity': 0.0, 'unit': 'ea'}, {'ingredient': 'avocado', 'quantity': 0.0, 'unit': 'ea'}, {'ingredient': 'jack cheese', 'quantity': 0.0, 'unit': 'ea'}, {'ingredient': 'sour cream', 'quantity': 0.0, 'unit': 'ea'}]\n"
     ]
    }
   ],
   "source": [
    "# input = 'https://www.food.com/recipe/creamy-cajun-chicken-pasta-39087'\n",
    "input = 'sweet-and-spicy-vegetarian-chili-97649'\n",
    "\n",
    "urlsoup = web.requestRecipeUrl(input)\n",
    "recipeName, ingrdList = web.parseRecipeIngrd(urlsoup)\n",
    "print(recipeName)\n",
    "print(ingrdList)"
   ]
  },
  {
   "cell_type": "code",
   "execution_count": 5,
   "metadata": {},
   "outputs": [
    {
     "name": "stdout",
     "output_type": "stream",
     "text": [
      "[{'ingredient': 'peas', 'co2': 0.4}, {'ingredient': 'runner beans', 'co2': 30.44}, {'ingredient': 'beef cold cuts', 'co2': 116.84}, {'ingredient': 'apple juice', 'co2': 0.4}, {'ingredient': 'peach', 'co2': 34.95}, {'ingredient': 'poppy seed', 'co2': 13.61}, {'ingredient': 'fish oil', 'co2': 0.73}, {'ingredient': 'celery', 'co2': 0.34}, {'ingredient': 'gem squash', 'co2': 0.06}, {'ingredient': 'sour cream', 'co2': 0.9}, {'ingredient': 'coconut', 'co2': 26.97}]\n",
      "225.64\n"
     ]
    }
   ],
   "source": [
    "ingrdList = nlp.ingrd_matching(ingrdList)\n",
    "\n",
    "greenrecipe_db = db.greenrecipe_db()\n",
    "total_co2, ingrdList_co2 = greenrecipe_db.search_ingrdCO2_total(ingrdList)\n",
    "\n",
    "print(ingrdList_co2)\n",
    "print(total_co2)"
   ]
  },
  {
   "cell_type": "code",
   "execution_count": null,
   "metadata": {},
   "outputs": [],
   "source": []
  }
 ],
 "metadata": {
  "kernelspec": {
   "display_name": "Python 3.9.1 64-bit",
   "language": "python",
   "name": "python3"
  },
  "language_info": {
   "codemirror_mode": {
    "name": "ipython",
    "version": 3
   },
   "file_extension": ".py",
   "mimetype": "text/x-python",
   "name": "python",
   "nbconvert_exporter": "python",
   "pygments_lexer": "ipython3",
   "version": "3.9.1"
  },
  "orig_nbformat": 4,
  "vscode": {
   "interpreter": {
    "hash": "aee8b7b246df8f9039afb4144a1f6fd8d2ca17a180786b69acc140d282b71a49"
   }
  }
 },
 "nbformat": 4,
 "nbformat_minor": 2
}
